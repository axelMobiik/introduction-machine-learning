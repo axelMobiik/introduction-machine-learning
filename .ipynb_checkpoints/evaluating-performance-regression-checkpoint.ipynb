{
 "cells": [
  {
   "attachments": {},
   "cell_type": "markdown",
   "id": "e541d136-e12d-4b02-a990-a6dac2506f74",
   "metadata": {},
   "source": [
    "<h1>Evaluating Performance - Regression</h1>\n",
    "<p>\n",
    "    Let's take a moment now to discuss evaluating Regression Models. \n",
    "    <br>Regression is a task when a model attempts to predict continuous values (unlike categorical values, which is classification).\n",
    "    <br>You may have heard of some evaluation metrics like accuracy or recall.\n",
    "    <br>These sort of metrics aren't useful for regression problems, we need metrics designed for <strong>continuous</strong> values!\n",
    "    <br>For example, attempting to predict the price of a house given it's features is a <strong>regression task</strong>.\n",
    "    <br>Attempting to predict the country a house is in given it's features would be a classification task\n",
    "</p>\n",
    "\n",
    "<p>Let' discuss some of the most common evaluation metrics for regression:</p>\n",
    "<li>Mean Absolute Error</li>\n",
    "<li>Mean Squared Error</li>\n",
    "<li>Root Mean Square Error</li>\n",
    "\n",
    "<p>\n",
    "    Mean Absolute Error (MAE)<br>\n",
    "    <li>This is the mean of the absolute value of errors</li>\n",
    "    <li>MAE won't punish large errors however</li>\n",
    "</p>\n",
    "\n",
    "<p>\n",
    "    Mean Squared Error (MSE)<br>\n",
    "    <li>This is the mean of the squared errors</li>\n",
    "    <li>Larger errors are noted more than MAE, making MSE more popular</li>\n",
    "</p>\n",
    "\n",
    "<p>\n",
    "    Root Mean Square Error (RMSE)<br>\n",
    "    <li>This is the root of the mean of the squared errors</li>\n",
    "    <li>Most popular(has same units as y)</li>\n",
    "</p>\n",
    "\n",
    "<p>\n",
    "    Most common question from students: \"Is this value of RMSE good?\"\n",
    "    <br>Context is everything!\n",
    "    <br>A RSME of $10 is fantastic for predicting the price of a house, but horrible for predicting the price of a candy bar!\n",
    "    <br>Compare your error metric to the average value of the label in your data set to try to get an intuition of its overall performance\n",
    "    <br>Domain knowledge also plays an important role here!\n",
    "</p>"
   ]
  },
  {
   "cell_type": "code",
   "execution_count": null,
   "id": "8130f765-06f5-4209-9f6f-3ea2f2327889",
   "metadata": {},
   "outputs": [],
   "source": []
  }
 ],
 "metadata": {
  "kernelspec": {
   "display_name": "Python 3 (ipykernel)",
   "language": "python",
   "name": "python3"
  },
  "language_info": {
   "codemirror_mode": {
    "name": "ipython",
    "version": 3
   },
   "file_extension": ".py",
   "mimetype": "text/x-python",
   "name": "python",
   "nbconvert_exporter": "python",
   "pygments_lexer": "ipython3",
   "version": "3.11.7"
  }
 },
 "nbformat": 4,
 "nbformat_minor": 5
}
